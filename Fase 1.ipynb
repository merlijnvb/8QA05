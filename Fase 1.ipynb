{
 "cells": [
  {
   "cell_type": "markdown",
   "metadata": {},
   "source": [
    "# Preprocessing"
   ]
  },
  {
   "cell_type": "markdown",
   "metadata": {},
   "source": [
    "Stap 1: files inlezen en opmaken in een dictionairy, met als key de CloneId en de andere kolommen als value"
   ]
  },
  {
   "cell_type": "code",
   "execution_count": null,
   "metadata": {},
   "outputs": [],
   "source": [
    "def ReadFile(filename):\n",
    "    infile = open(filename)\n",
    "    lines = infile.readlines()\n",
    "    infile.close()\n",
    "    \n",
    "    data = {}\n",
    "        \n",
    "    for line in lines:\n",
    "        line = line.rstrip().split('\\t')\n",
    "        data[line[0]] = line[1:]\n",
    "    return data\n",
    "    \n",
    "dag1 = ReadFile('dag1.txt')\n",
    "dag2 = ReadFile('dag2.txt')\n",
    "dag4 = ReadFile('dag4.txt')\n",
    "dag7 = ReadFile('dag7.txt')\n",
    "dag14 = ReadFile('dag14.txt')\n",
    "dag21 = ReadFile('dag21.txt')\n",
    "dag45 = ReadFile('dag45.txt')\n",
    "dag90 = ReadFile('dag90.txt')"
   ]
  }
 ],
 "metadata": {
  "kernelspec": {
   "display_name": "Python 3",
   "language": "python",
   "name": "python3"
  },
  "language_info": {
   "codemirror_mode": {
    "name": "ipython",
    "version": 3
   },
   "file_extension": ".py",
   "mimetype": "text/x-python",
   "name": "python",
   "nbconvert_exporter": "python",
   "pygments_lexer": "ipython3",
   "version": "3.8.3"
  }
 },
 "nbformat": 4,
 "nbformat_minor": 4
}
