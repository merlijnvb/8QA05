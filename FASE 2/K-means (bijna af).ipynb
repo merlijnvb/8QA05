{
 "cells": [
  {
   "cell_type": "markdown",
   "metadata": {},
   "source": [
    "# Clustering\n",
    "\n",
    "The goal of this program is to visualize and cluster the data.\n",
    "\n",
    "## Input\n",
    "* Importing the libaries that are necessary:"
   ]
  },
  {
   "cell_type": "code",
   "execution_count": 190,
   "metadata": {},
   "outputs": [],
   "source": [
    "import numpy as np\n",
    "import pandas as pd\n",
    "import random as rd"
   ]
  },
  {
   "cell_type": "markdown",
   "metadata": {},
   "source": [
    "* Importing the necessary files:\n",
    " * Read files\n",
    " * Convert read files to data\n",
    " * Save data in dataframes"
   ]
  },
  {
   "cell_type": "code",
   "execution_count": 198,
   "metadata": {},
   "outputs": [],
   "source": [
    "df_data = pd.read_csv('..\\Voorbeeld_clusterdata.txt', sep='  ', header=None, engine='python', index_col=0)\n",
    "df_results = pd.read_csv('..\\Voorbeeld_clusterresult.txt', sep='  ', header=None, engine='python', index_col=0)\n",
    "df_clusterd = df_data.copy().drop(columns=df_data.columns)"
   ]
  },
  {
   "cell_type": "markdown",
   "metadata": {},
   "source": [
    "# K-means clustering\n",
    "## als eerste moet de data genormaliseerd worden\n",
    "de formule hiervoor staat in de casusinformatie. De formule is een bruek, met als teller het coordinaat en de noemer de wortel van de som van de coordinaten in het kwadraat."
   ]
  },
  {
   "cell_type": "code",
   "execution_count": 227,
   "metadata": {},
   "outputs": [],
   "source": [
    "def lib(FileName):\n",
    "    def openFile(FileName):\n",
    "        read_data = open(f'{FileName}')\n",
    "        data = read_data.read()\n",
    "        data = data.splitlines()\n",
    "        read_data.close()\n",
    "        \n",
    "        return data\n",
    "        \n",
    "    lib = {}\n",
    "    \n",
    "    for lines in openFile(FileName):\n",
    "        line = lines.split()\n",
    "        lib[line[0]] = line[1:]\n",
    "            \n",
    "    return lib\n",
    "\n",
    "lib_data = lib('..\\Voorbeeld_clusterdata.txt')\n",
    "lib_results = lib('..\\Voorbeeld_clusterresult.txt')"
   ]
  },
  {
   "cell_type": "code",
   "execution_count": 228,
   "metadata": {},
   "outputs": [],
   "source": [
    "'''het maken van een lijst waar voor elk gen de noemer in komt.'''\n",
    "noemer = list()\n",
    "for i in lib_data: \n",
    "    noemer.append(sum([float(i)**2 for i in lib_data[i]])**0.5)"
   ]
  },
  {
   "cell_type": "code",
   "execution_count": 229,
   "metadata": {},
   "outputs": [],
   "source": [
    "'''de lijst van de noemers in een DataFrame zetten, zodat de coordinaten makkelijk gedeeld kunnen worden door de noemer.'''\n",
    "df_factors = pd.DataFrame(noemer)"
   ]
  },
  {
   "cell_type": "code",
   "execution_count": 230,
   "metadata": {},
   "outputs": [],
   "source": [
    "'''de coordinaten delen door de noemer en van de array een dataframe maken.'''\n",
    "df_normalised = pd.DataFrame(np.divide(df_data.values, df_factors.values), )\n",
    "df_normalised.columns = df_data.columns"
   ]
  },
  {
   "cell_type": "markdown",
   "metadata": {},
   "source": [
    "## nu geven we elke vector een random cluster. "
   ]
  },
  {
   "cell_type": "code",
   "execution_count": 231,
   "metadata": {},
   "outputs": [],
   "source": [
    "K = 3"
   ]
  },
  {
   "cell_type": "code",
   "execution_count": 232,
   "metadata": {},
   "outputs": [
    {
     "data": {
      "text/html": [
       "<div>\n",
       "<style scoped>\n",
       "    .dataframe tbody tr th:only-of-type {\n",
       "        vertical-align: middle;\n",
       "    }\n",
       "\n",
       "    .dataframe tbody tr th {\n",
       "        vertical-align: top;\n",
       "    }\n",
       "\n",
       "    .dataframe thead th {\n",
       "        text-align: right;\n",
       "    }\n",
       "</style>\n",
       "<table border=\"1\" class=\"dataframe\">\n",
       "  <thead>\n",
       "    <tr style=\"text-align: right;\">\n",
       "      <th></th>\n",
       "      <th>1</th>\n",
       "      <th>2</th>\n",
       "      <th>3</th>\n",
       "      <th>4</th>\n",
       "      <th>5</th>\n",
       "      <th>6</th>\n",
       "      <th>7</th>\n",
       "      <th>8</th>\n",
       "      <th>cluster</th>\n",
       "    </tr>\n",
       "  </thead>\n",
       "  <tbody>\n",
       "    <tr>\n",
       "      <th>0</th>\n",
       "      <td>0.239776</td>\n",
       "      <td>0.203315</td>\n",
       "      <td>0.426405</td>\n",
       "      <td>0.556181</td>\n",
       "      <td>0.386855</td>\n",
       "      <td>0.383765</td>\n",
       "      <td>0.246573</td>\n",
       "      <td>0.228652</td>\n",
       "      <td>1</td>\n",
       "    </tr>\n",
       "    <tr>\n",
       "      <th>1</th>\n",
       "      <td>-0.164504</td>\n",
       "      <td>-0.279546</td>\n",
       "      <td>-0.252314</td>\n",
       "      <td>-0.482397</td>\n",
       "      <td>-0.400701</td>\n",
       "      <td>-0.510185</td>\n",
       "      <td>-0.270098</td>\n",
       "      <td>-0.323451</td>\n",
       "      <td>1</td>\n",
       "    </tr>\n",
       "    <tr>\n",
       "      <th>2</th>\n",
       "      <td>-0.211364</td>\n",
       "      <td>-0.803356</td>\n",
       "      <td>-0.237999</td>\n",
       "      <td>-0.150361</td>\n",
       "      <td>-0.238859</td>\n",
       "      <td>-0.064440</td>\n",
       "      <td>-0.202772</td>\n",
       "      <td>-0.358288</td>\n",
       "      <td>3</td>\n",
       "    </tr>\n",
       "    <tr>\n",
       "      <th>3</th>\n",
       "      <td>0.309072</td>\n",
       "      <td>0.373379</td>\n",
       "      <td>0.392670</td>\n",
       "      <td>0.440096</td>\n",
       "      <td>0.425225</td>\n",
       "      <td>0.347254</td>\n",
       "      <td>0.276919</td>\n",
       "      <td>0.197742</td>\n",
       "      <td>1</td>\n",
       "    </tr>\n",
       "    <tr>\n",
       "      <th>4</th>\n",
       "      <td>-0.285344</td>\n",
       "      <td>-0.594142</td>\n",
       "      <td>-0.238438</td>\n",
       "      <td>-0.229057</td>\n",
       "      <td>-0.284563</td>\n",
       "      <td>-0.121174</td>\n",
       "      <td>-0.368993</td>\n",
       "      <td>-0.473750</td>\n",
       "      <td>1</td>\n",
       "    </tr>\n",
       "    <tr>\n",
       "      <th>...</th>\n",
       "      <td>...</td>\n",
       "      <td>...</td>\n",
       "      <td>...</td>\n",
       "      <td>...</td>\n",
       "      <td>...</td>\n",
       "      <td>...</td>\n",
       "      <td>...</td>\n",
       "      <td>...</td>\n",
       "      <td>...</td>\n",
       "    </tr>\n",
       "    <tr>\n",
       "      <th>1007</th>\n",
       "      <td>0.262366</td>\n",
       "      <td>0.385001</td>\n",
       "      <td>0.331177</td>\n",
       "      <td>0.563782</td>\n",
       "      <td>0.347008</td>\n",
       "      <td>0.275453</td>\n",
       "      <td>0.325267</td>\n",
       "      <td>0.230916</td>\n",
       "      <td>3</td>\n",
       "    </tr>\n",
       "    <tr>\n",
       "      <th>1008</th>\n",
       "      <td>0.381695</td>\n",
       "      <td>0.302057</td>\n",
       "      <td>0.256819</td>\n",
       "      <td>0.458505</td>\n",
       "      <td>0.535786</td>\n",
       "      <td>0.244096</td>\n",
       "      <td>0.335043</td>\n",
       "      <td>0.167286</td>\n",
       "      <td>2</td>\n",
       "    </tr>\n",
       "    <tr>\n",
       "      <th>1009</th>\n",
       "      <td>-0.488990</td>\n",
       "      <td>-0.747571</td>\n",
       "      <td>-0.066406</td>\n",
       "      <td>0.046283</td>\n",
       "      <td>0.366239</td>\n",
       "      <td>0.177083</td>\n",
       "      <td>0.173058</td>\n",
       "      <td>0.006037</td>\n",
       "      <td>3</td>\n",
       "    </tr>\n",
       "    <tr>\n",
       "      <th>1010</th>\n",
       "      <td>0.080280</td>\n",
       "      <td>0.264680</td>\n",
       "      <td>0.329877</td>\n",
       "      <td>0.429618</td>\n",
       "      <td>0.488004</td>\n",
       "      <td>0.315281</td>\n",
       "      <td>0.466109</td>\n",
       "      <td>0.274411</td>\n",
       "      <td>3</td>\n",
       "    </tr>\n",
       "    <tr>\n",
       "      <th>1011</th>\n",
       "      <td>0.279597</td>\n",
       "      <td>0.343387</td>\n",
       "      <td>0.313238</td>\n",
       "      <td>0.593787</td>\n",
       "      <td>0.421141</td>\n",
       "      <td>0.274837</td>\n",
       "      <td>0.274837</td>\n",
       "      <td>0.157412</td>\n",
       "      <td>2</td>\n",
       "    </tr>\n",
       "  </tbody>\n",
       "</table>\n",
       "<p>1012 rows × 9 columns</p>\n",
       "</div>"
      ],
      "text/plain": [
       "             1         2         3         4         5         6         7  \\\n",
       "0     0.239776  0.203315  0.426405  0.556181  0.386855  0.383765  0.246573   \n",
       "1    -0.164504 -0.279546 -0.252314 -0.482397 -0.400701 -0.510185 -0.270098   \n",
       "2    -0.211364 -0.803356 -0.237999 -0.150361 -0.238859 -0.064440 -0.202772   \n",
       "3     0.309072  0.373379  0.392670  0.440096  0.425225  0.347254  0.276919   \n",
       "4    -0.285344 -0.594142 -0.238438 -0.229057 -0.284563 -0.121174 -0.368993   \n",
       "...        ...       ...       ...       ...       ...       ...       ...   \n",
       "1007  0.262366  0.385001  0.331177  0.563782  0.347008  0.275453  0.325267   \n",
       "1008  0.381695  0.302057  0.256819  0.458505  0.535786  0.244096  0.335043   \n",
       "1009 -0.488990 -0.747571 -0.066406  0.046283  0.366239  0.177083  0.173058   \n",
       "1010  0.080280  0.264680  0.329877  0.429618  0.488004  0.315281  0.466109   \n",
       "1011  0.279597  0.343387  0.313238  0.593787  0.421141  0.274837  0.274837   \n",
       "\n",
       "             8  cluster  \n",
       "0     0.228652        1  \n",
       "1    -0.323451        1  \n",
       "2    -0.358288        3  \n",
       "3     0.197742        1  \n",
       "4    -0.473750        1  \n",
       "...        ...      ...  \n",
       "1007  0.230916        3  \n",
       "1008  0.167286        2  \n",
       "1009  0.006037        3  \n",
       "1010  0.274411        3  \n",
       "1011  0.157412        2  \n",
       "\n",
       "[1012 rows x 9 columns]"
      ]
     },
     "execution_count": 232,
     "metadata": {},
     "output_type": "execute_result"
    }
   ],
   "source": [
    "def random_clusters(data, K=6):\n",
    "    '''invoer is dataframe met genormaliseerde data. deze code zorgt ervoor dat alle vectoren in een van de clusters\n",
    "    worden ingedeeld. De functie wordt net zo vaak doorlopen, totdat elk cluster minimaal 1 gen toegekent heeft gekregen.'''\n",
    "    random_clusters = []\n",
    "    \n",
    "    a = 0\n",
    "    if a == 0:\n",
    "        for i in range(len(data)):\n",
    "            random_clusters.append(rd.randint(1,K))\n",
    "\n",
    "        df_clusterd_data = data.copy()\n",
    "        df_clusterd_data['cluster'] = random_clusters\n",
    "        df_clusterd_data\n",
    "        \n",
    "        if range(1,K+1) in random_clusters:\n",
    "            a = 1\n",
    "        \n",
    "    return df_clusterd_data\n",
    "\n",
    "df_clusterd_data = random_clusters(df_normalised,K)  \n",
    "df_clusterd_data"
   ]
  },
  {
   "cell_type": "code",
   "execution_count": 233,
   "metadata": {},
   "outputs": [],
   "source": [
    "def square_dataframe(data):\n",
    "    '''deze functie neemt het kwadraat van elk getal, zodat later de afstand tussen de vectoren van de \n",
    "    genen en die van het centrum van de clusters berekend kunnen worden.\n",
    "    \n",
    "    \n",
    "    now when i am writting these comments I think that I don\"t use this function in the rest of the code, but I will\n",
    "    leave it cause we might need it later'''\n",
    "    \n",
    "    clusters = list(data['cluster'])\n",
    "    data_without_clusters = data.drop(axis=1, labels ='cluster')\n",
    "    data_squared = (data_without_clusters.copy())**2\n",
    "    data_squared['cluster'] = clusters\n",
    "    \n",
    "    return data_squared\n",
    "    \n",
    "df_squared = square_dataframe(data = df_clusterd_data)"
   ]
  },
  {
   "cell_type": "code",
   "execution_count": 234,
   "metadata": {},
   "outputs": [],
   "source": [
    "def make_vector(data):\n",
    "    '''this function creates an extra column in the dataframe named \"vector\". this column \n",
    "    contains lists of the vectors from the genes.'''\n",
    "    vector_list = []\n",
    "\n",
    "    for index, rows in data.iterrows():\n",
    "        vector = []\n",
    "        for coordinate in rows:\n",
    "            vector.append(coordinate)\n",
    "        vector_list.append(vector)\n",
    "\n",
    "    data['vector'] = vector_list\n",
    "    return data\n",
    "\n",
    "df_vec = make_vector(data=df_clusterd_data.loc[:, df_clusterd_data.columns != 'cluster'])\n",
    "clusters = df_clusterd_data['cluster']\n",
    "df_vec['cluster'] = clusters"
   ]
  },
  {
   "cell_type": "code",
   "execution_count": 235,
   "metadata": {
    "scrolled": true
   },
   "outputs": [],
   "source": [
    "def centrum(data):\n",
    "    '''this function calculates the mean of every coordinate i (i = 1,...,8) for all klusters K\n",
    "    this function needs a data frame as imput where in the coordinates for all genes are, and the vector of these genes.\n",
    "    the output of this function is a dataframe with every row corosponding to a cluster. all elements in the row together make the coordinate of the centrum of the cluster\n",
    "    and the last cell of each row gives a list of the centrum of the vector.'''\n",
    "    \n",
    "    df_rest = data['vector'].copy()\n",
    "    df_use = data.drop(axis=1, labels ='vector')\n",
    "    df_sum = df_use.groupby('cluster').sum()\n",
    "    df_centrum = df_sum.rdiv(1) #for every cell, devide 1 by the number in that cell\n",
    "    \n",
    "    df_centrum = make_vector(df_centrum)\n",
    "    \n",
    "    return df_centrum\n",
    "\n",
    "df_cluster_centrum = centrum(df_vec) "
   ]
  },
  {
   "cell_type": "code",
   "execution_count": 236,
   "metadata": {
    "scrolled": true
   },
   "outputs": [],
   "source": [
    "def compute_distance(data_genes, data_clusters, K):\n",
    "    '''This function computes the distance for every gen with all the clusters. The imput that this function need are two data frames\n",
    "    the first data frame it needs, the dataframe with the vectors for all the genes. the second one is a data frame with the vectors\n",
    "    for the centra of the clusters.'''\n",
    "    df_distance = pd.DataFrame(index=data_genes.index)\n",
    "    centrums = {}\n",
    "    for vector in range(len(list(data_clusters))):\n",
    "        centrums[vector] = list(data_clusters)[vector]\n",
    "    \n",
    "    for gen in range(len(data_genes)):\n",
    "        for cluster in range(1, len(data_clusters)+1):\n",
    "            total = 0\n",
    "            c = data_clusters[cluster]\n",
    "            for coordinate in range(len(c)):\n",
    "                total += (data_genes[gen][coordinate] + c[coordinate])**2\n",
    "                df_distance.loc[gen,cluster] = (total)**0.5\n",
    "    \n",
    "    return df_distance\n",
    "distance = compute_distance(df_vec['vector'], df_cluster_centrum['vector'],K)"
   ]
  },
  {
   "cell_type": "code",
   "execution_count": 237,
   "metadata": {},
   "outputs": [],
   "source": [
    "def cluster_smallest_distance(data):\n",
    "    '''this function looks for every gen, which of the clusters centrum is the least far away and saves this in a list'''\n",
    "    smallest_distance = data.idxmin(axis=1)\n",
    "    return smallest_distance\n",
    "\n",
    "smallest_distance = cluster_smallest_distance(distance)"
   ]
  },
  {
   "cell_type": "code",
   "execution_count": 238,
   "metadata": {},
   "outputs": [],
   "source": [
    "def check(data, smallest_distance):\n",
    "    '''this function makes a dataframe with the old cluster and the cluster that is the least far away.'''\n",
    "    cluster_comparison = data[['cluster']].copy()\n",
    "    cluster_comparison['new_cluster'] = smallest_distance\n",
    "    \n",
    "    \n",
    "    return cluster_comparison\n",
    "\n",
    "df_vector = check(df_vec, smallest_distance)"
   ]
  },
  {
   "cell_type": "code",
   "execution_count": 239,
   "metadata": {},
   "outputs": [],
   "source": [
    "def score(data, df_vec):\n",
    "    '''in this function compares the two clusters (old and new). for every old and new cluster that are the same (so no\n",
    "    improvement) the score will decrease with 1. the score starts at the amount of genes there are. a score of 0 means that\n",
    "    all genes are in the cluster that is the least far away'''\n",
    "    score = len(data)\n",
    "    for gen in range(len(data)):\n",
    "        cluster = data.iloc[gen, 0]\n",
    "        new_cluster = data.iloc[gen, 1]\n",
    "        if cluster == new_cluster:\n",
    "            score -= 1\n",
    "    df_vec['cluster'] = df_vector['new_cluster']\n",
    "    return score, df_vec\n",
    "    \n",
    "function_output = score(df_vector, df_vec)\n",
    "score = function_output[0]\n",
    "df_vector = function_output[1]"
   ]
  },
  {
   "cell_type": "code",
   "execution_count": 240,
   "metadata": {
    "scrolled": true
   },
   "outputs": [
    {
     "ename": "TypeError",
     "evalue": "'int' object is not callable",
     "output_type": "error",
     "traceback": [
      "\u001b[1;31m---------------------------------------------------------------------------\u001b[0m",
      "\u001b[1;31mTypeError\u001b[0m                                 Traceback (most recent call last)",
      "\u001b[1;32m<ipython-input-240-cfc837914b9c>\u001b[0m in \u001b[0;36m<module>\u001b[1;34m\u001b[0m\n\u001b[0;32m     17\u001b[0m     \u001b[1;32mreturn\u001b[0m \u001b[0mscore\u001b[0m\u001b[1;33m\u001b[0m\u001b[1;33m\u001b[0m\u001b[0m\n\u001b[0;32m     18\u001b[0m \u001b[1;33m\u001b[0m\u001b[0m\n\u001b[1;32m---> 19\u001b[1;33m \u001b[0mK_means_clusterd\u001b[0m \u001b[1;33m=\u001b[0m \u001b[0mright_cluster\u001b[0m\u001b[1;33m(\u001b[0m\u001b[0mdf_clusterd_data\u001b[0m\u001b[1;33m,\u001b[0m\u001b[0mscore\u001b[0m\u001b[1;33m,\u001b[0m\u001b[0mdf_vector\u001b[0m\u001b[1;33m,\u001b[0m\u001b[0mK\u001b[0m\u001b[1;33m)\u001b[0m\u001b[1;33m\u001b[0m\u001b[1;33m\u001b[0m\u001b[0m\n\u001b[0m\u001b[0;32m     20\u001b[0m \u001b[0mK_means_clusterd\u001b[0m\u001b[1;33m\u001b[0m\u001b[1;33m\u001b[0m\u001b[0m\n",
      "\u001b[1;32m<ipython-input-240-cfc837914b9c>\u001b[0m in \u001b[0;36mright_cluster\u001b[1;34m(data, score, df_vector, K)\u001b[0m\n\u001b[0;32m     12\u001b[0m         \u001b[0msmallest_distance\u001b[0m \u001b[1;33m=\u001b[0m \u001b[0mcluster_smallest_distance\u001b[0m\u001b[1;33m(\u001b[0m\u001b[0mdistance\u001b[0m\u001b[1;33m)\u001b[0m\u001b[1;33m\u001b[0m\u001b[1;33m\u001b[0m\u001b[0m\n\u001b[0;32m     13\u001b[0m         \u001b[0mdf_vector\u001b[0m \u001b[1;33m=\u001b[0m \u001b[0mcheck\u001b[0m\u001b[1;33m(\u001b[0m\u001b[0mdf_vector\u001b[0m\u001b[1;33m,\u001b[0m \u001b[0msmallest_distance\u001b[0m\u001b[1;33m)\u001b[0m\u001b[1;33m\u001b[0m\u001b[1;33m\u001b[0m\u001b[0m\n\u001b[1;32m---> 14\u001b[1;33m         \u001b[0mscore\u001b[0m \u001b[1;33m=\u001b[0m \u001b[0mscore\u001b[0m\u001b[1;33m(\u001b[0m\u001b[0mdf_vector\u001b[0m\u001b[1;33m,\u001b[0m \u001b[0mdf_vec\u001b[0m\u001b[1;33m)\u001b[0m\u001b[1;33m\u001b[0m\u001b[1;33m\u001b[0m\u001b[0m\n\u001b[0m\u001b[0;32m     15\u001b[0m         \u001b[0mdf_vector\u001b[0m \u001b[1;33m=\u001b[0m \u001b[0mscore\u001b[0m\u001b[1;33m(\u001b[0m\u001b[0mdf_vector\u001b[0m\u001b[1;33m,\u001b[0m \u001b[0mdf_vec\u001b[0m\u001b[1;33m)\u001b[0m\u001b[1;33m[\u001b[0m\u001b[1;36m1\u001b[0m\u001b[1;33m]\u001b[0m\u001b[1;33m\u001b[0m\u001b[1;33m\u001b[0m\u001b[0m\n\u001b[0;32m     16\u001b[0m \u001b[1;33m\u001b[0m\u001b[0m\n",
      "\u001b[1;31mTypeError\u001b[0m: 'int' object is not callable"
     ]
    }
   ],
   "source": [
    "def right_cluster(data, score, df_vector, K):\n",
    "    '''deze functie moet de andere functies doorlopen todat het goede resultaat behaald is. Dat doet ie alleen nog niet \n",
    "    helemaal: als de while loop voor een tweede keer doorlopen wordt geeft ie namelijk een foutmelding. dit heeft \n",
    "    waarschijnlijk te maken met een tweede aanpassing die we nog moeten doen: als je bijv 13 clusters wilt hebben\n",
    "    en bij het verbeteren (1e keer while loop) liggen alle genen het dichste bij 3,4 en 8, worden alle genen in die 3\n",
    "    clusters ingedeeld. Hierdoor krijgt de functie compute_distance niet de juiste invoer waardoor de while loop geen\n",
    "    tweede keer doorlopen kan worden.'''\n",
    "    while score > 0:\n",
    "        df_squared = square_dataframe(data)\n",
    "        df_cluster_centrum = centrum(df_vector)\n",
    "        distance = compute_distance(df_vector['vector'], df_cluster_centrum['vector'],K)\n",
    "        smallest_distance = cluster_smallest_distance(distance)\n",
    "        df_vector = check(df_vector, smallest_distance)\n",
    "        score = score(df_vector, df_vec)\n",
    "        df_vector = score(df_vector, df_vec)[1]\n",
    "    \n",
    "    return score\n",
    "\n",
    "K_means_clusterd = right_cluster(df_clusterd_data,score,df_vector,K)\n",
    "K_means_clusterd"
   ]
  },
  {
   "cell_type": "markdown",
   "metadata": {},
   "source": [
    "## Cluster methods\n",
    "### K-means (KMCA):\n",
    "\n",
    "uitleggen hoe het werkt"
   ]
  },
  {
   "cell_type": "code",
   "execution_count": 17,
   "metadata": {},
   "outputs": [],
   "source": [
    "class KMCA:\n",
    "    def __init__(self, k=6, tol=0.001, max_iter=300):\n",
    "        self.k = k\n",
    "        self.tol = tol\n",
    "        self.max_iter = max_iter\n",
    "        \n",
    "    def set_k(K):\n",
    "        self.k = K\n",
    "\n",
    "    def fit(self,data):\n",
    "\n",
    "        self.centroids = {}\n",
    "\n",
    "        for i in range(self.k):\n",
    "            self.centroids[i] = data[i]\n",
    "\n",
    "        for i in range(self.max_iter):\n",
    "            self.classifications = {}\n",
    "\n",
    "            for i in range(self.k):\n",
    "                self.classifications[i] = []\n",
    "\n",
    "            for featureset in data:\n",
    "                distances = [np.linalg.norm(featureset-self.centroids[centroid]) for centroid in self.centroids]\n",
    "                classification = distances.index(min(distances))\n",
    "                self.classifications[classification].append(featureset)\n",
    "\n",
    "            prev_centroids = dict(self.centroids)\n",
    "\n",
    "            for classification in self.classifications:\n",
    "                self.centroids[classification] = np.average(self.classifications[classification],axis=0)\n",
    "\n",
    "            optimized = True\n",
    "\n",
    "            for c in self.centroids:\n",
    "                original_centroid = prev_centroids[c]\n",
    "                current_centroid = self.centroids[c]\n",
    "                if np.sum((current_centroid-original_centroid)/original_centroid*100.0) > self.tol:\n",
    "                    optimized = False\n",
    "\n",
    "            if optimized:\n",
    "                break\n",
    "\n",
    "    def predict(self,data):\n",
    "        def pred(self, data):\n",
    "            distances = [np.linalg.norm(data-self.centroids[centroid]) for centroid in self.centroids]\n",
    "            classification = distances.index(min(distances))\n",
    "            return classification\n",
    "        \n",
    "        self.pred_classifications = list()\n",
    "        \n",
    "        if np.isfortran(data):\n",
    "            for element in data:\n",
    "                self.pred_classifications.append(pred(self, element))\n",
    "        else:\n",
    "            self.pred_classifications.append(pred(self, data))\n",
    "            \n",
    "        return self.pred_classifications"
   ]
  },
  {
   "cell_type": "markdown",
   "metadata": {},
   "source": [
    "### Own cluster method:"
   ]
  },
  {
   "cell_type": "code",
   "execution_count": null,
   "metadata": {},
   "outputs": [],
   "source": []
  },
  {
   "cell_type": "markdown",
   "metadata": {},
   "source": [
    "## Output\n",
    "\n",
    "* get cluster labels\n",
    "* save labels in text file\n",
    "\n",
    "### get cluster labels:"
   ]
  },
  {
   "cell_type": "code",
   "execution_count": 18,
   "metadata": {},
   "outputs": [
    {
     "data": {
      "text/html": [
       "<div>\n",
       "<style scoped>\n",
       "    .dataframe tbody tr th:only-of-type {\n",
       "        vertical-align: middle;\n",
       "    }\n",
       "\n",
       "    .dataframe tbody tr th {\n",
       "        vertical-align: top;\n",
       "    }\n",
       "\n",
       "    .dataframe thead th {\n",
       "        text-align: right;\n",
       "    }\n",
       "</style>\n",
       "<table border=\"1\" class=\"dataframe\">\n",
       "  <thead>\n",
       "    <tr style=\"text-align: right;\">\n",
       "      <th></th>\n",
       "      <th>KMCA</th>\n",
       "    </tr>\n",
       "    <tr>\n",
       "      <th>0</th>\n",
       "      <th></th>\n",
       "    </tr>\n",
       "  </thead>\n",
       "  <tbody>\n",
       "    <tr>\n",
       "      <th>846160</th>\n",
       "      <td>0</td>\n",
       "    </tr>\n",
       "    <tr>\n",
       "      <th>820434</th>\n",
       "      <td>4</td>\n",
       "    </tr>\n",
       "    <tr>\n",
       "      <th>849103</th>\n",
       "      <td>2</td>\n",
       "    </tr>\n",
       "    <tr>\n",
       "      <th>846353</th>\n",
       "      <td>3</td>\n",
       "    </tr>\n",
       "    <tr>\n",
       "      <th>848613</th>\n",
       "      <td>2</td>\n",
       "    </tr>\n",
       "  </tbody>\n",
       "</table>\n",
       "</div>"
      ],
      "text/plain": [
       "        KMCA\n",
       "0           \n",
       "846160     0\n",
       "820434     4\n",
       "849103     2\n",
       "846353     3\n",
       "848613     2"
      ]
     },
     "execution_count": 18,
     "metadata": {},
     "output_type": "execute_result"
    }
   ],
   "source": [
    "kmca = KMCA()\n",
    "kmca.fit(df_data.values)\n",
    "df_clusterd['KMCA'] = kmca.predict(df_data.values)\n",
    "\n",
    "df_clusterd.head()"
   ]
  },
  {
   "cell_type": "markdown",
   "metadata": {},
   "source": [
    "### save results:"
   ]
  },
  {
   "cell_type": "code",
   "execution_count": 19,
   "metadata": {},
   "outputs": [
    {
     "ename": "FileNotFoundError",
     "evalue": "[Errno 2] No such file or directory: 'Data\\\\clusterresultaten.txt'",
     "output_type": "error",
     "traceback": [
      "\u001b[1;31m---------------------------------------------------------------------------\u001b[0m",
      "\u001b[1;31mFileNotFoundError\u001b[0m                         Traceback (most recent call last)",
      "\u001b[1;32m<ipython-input-19-ef3418b6e6a2>\u001b[0m in \u001b[0;36m<module>\u001b[1;34m\u001b[0m\n\u001b[1;32m----> 1\u001b[1;33m \u001b[0mdf_clusterd\u001b[0m\u001b[1;33m.\u001b[0m\u001b[0mto_csv\u001b[0m\u001b[1;33m(\u001b[0m\u001b[1;34mr'Data\\clusterresultaten.txt'\u001b[0m\u001b[1;33m,\u001b[0m \u001b[0mheader\u001b[0m\u001b[1;33m=\u001b[0m\u001b[1;32mNone\u001b[0m\u001b[1;33m,\u001b[0m \u001b[0mindex\u001b[0m\u001b[1;33m=\u001b[0m\u001b[1;32mTrue\u001b[0m\u001b[1;33m,\u001b[0m \u001b[0msep\u001b[0m\u001b[1;33m=\u001b[0m\u001b[1;34m' '\u001b[0m\u001b[1;33m)\u001b[0m\u001b[1;33m\u001b[0m\u001b[1;33m\u001b[0m\u001b[0m\n\u001b[0m",
      "\u001b[1;32m~\\Anaconda3\\lib\\site-packages\\pandas\\core\\generic.py\u001b[0m in \u001b[0;36mto_csv\u001b[1;34m(self, path_or_buf, sep, na_rep, float_format, columns, header, index, index_label, mode, encoding, compression, quoting, quotechar, line_terminator, chunksize, date_format, doublequote, escapechar, decimal, errors)\u001b[0m\n\u001b[0;32m   3168\u001b[0m             \u001b[0mdecimal\u001b[0m\u001b[1;33m=\u001b[0m\u001b[0mdecimal\u001b[0m\u001b[1;33m,\u001b[0m\u001b[1;33m\u001b[0m\u001b[1;33m\u001b[0m\u001b[0m\n\u001b[0;32m   3169\u001b[0m         )\n\u001b[1;32m-> 3170\u001b[1;33m         \u001b[0mformatter\u001b[0m\u001b[1;33m.\u001b[0m\u001b[0msave\u001b[0m\u001b[1;33m(\u001b[0m\u001b[1;33m)\u001b[0m\u001b[1;33m\u001b[0m\u001b[1;33m\u001b[0m\u001b[0m\n\u001b[0m\u001b[0;32m   3171\u001b[0m \u001b[1;33m\u001b[0m\u001b[0m\n\u001b[0;32m   3172\u001b[0m         \u001b[1;32mif\u001b[0m \u001b[0mpath_or_buf\u001b[0m \u001b[1;32mis\u001b[0m \u001b[1;32mNone\u001b[0m\u001b[1;33m:\u001b[0m\u001b[1;33m\u001b[0m\u001b[1;33m\u001b[0m\u001b[0m\n",
      "\u001b[1;32m~\\Anaconda3\\lib\\site-packages\\pandas\\io\\formats\\csvs.py\u001b[0m in \u001b[0;36msave\u001b[1;34m(self)\u001b[0m\n\u001b[0;32m    183\u001b[0m             \u001b[0mclose\u001b[0m \u001b[1;33m=\u001b[0m \u001b[1;32mFalse\u001b[0m\u001b[1;33m\u001b[0m\u001b[1;33m\u001b[0m\u001b[0m\n\u001b[0;32m    184\u001b[0m         \u001b[1;32melse\u001b[0m\u001b[1;33m:\u001b[0m\u001b[1;33m\u001b[0m\u001b[1;33m\u001b[0m\u001b[0m\n\u001b[1;32m--> 185\u001b[1;33m             f, handles = get_handle(\n\u001b[0m\u001b[0;32m    186\u001b[0m                 \u001b[0mself\u001b[0m\u001b[1;33m.\u001b[0m\u001b[0mpath_or_buf\u001b[0m\u001b[1;33m,\u001b[0m\u001b[1;33m\u001b[0m\u001b[1;33m\u001b[0m\u001b[0m\n\u001b[0;32m    187\u001b[0m                 \u001b[0mself\u001b[0m\u001b[1;33m.\u001b[0m\u001b[0mmode\u001b[0m\u001b[1;33m,\u001b[0m\u001b[1;33m\u001b[0m\u001b[1;33m\u001b[0m\u001b[0m\n",
      "\u001b[1;32m~\\Anaconda3\\lib\\site-packages\\pandas\\io\\common.py\u001b[0m in \u001b[0;36mget_handle\u001b[1;34m(path_or_buf, mode, encoding, compression, memory_map, is_text, errors)\u001b[0m\n\u001b[0;32m    491\u001b[0m         \u001b[1;32mif\u001b[0m \u001b[0mencoding\u001b[0m\u001b[1;33m:\u001b[0m\u001b[1;33m\u001b[0m\u001b[1;33m\u001b[0m\u001b[0m\n\u001b[0;32m    492\u001b[0m             \u001b[1;31m# Encoding\u001b[0m\u001b[1;33m\u001b[0m\u001b[1;33m\u001b[0m\u001b[1;33m\u001b[0m\u001b[0m\n\u001b[1;32m--> 493\u001b[1;33m             \u001b[0mf\u001b[0m \u001b[1;33m=\u001b[0m \u001b[0mopen\u001b[0m\u001b[1;33m(\u001b[0m\u001b[0mpath_or_buf\u001b[0m\u001b[1;33m,\u001b[0m \u001b[0mmode\u001b[0m\u001b[1;33m,\u001b[0m \u001b[0mencoding\u001b[0m\u001b[1;33m=\u001b[0m\u001b[0mencoding\u001b[0m\u001b[1;33m,\u001b[0m \u001b[0merrors\u001b[0m\u001b[1;33m=\u001b[0m\u001b[0merrors\u001b[0m\u001b[1;33m,\u001b[0m \u001b[0mnewline\u001b[0m\u001b[1;33m=\u001b[0m\u001b[1;34m\"\"\u001b[0m\u001b[1;33m)\u001b[0m\u001b[1;33m\u001b[0m\u001b[1;33m\u001b[0m\u001b[0m\n\u001b[0m\u001b[0;32m    494\u001b[0m         \u001b[1;32melif\u001b[0m \u001b[0mis_text\u001b[0m\u001b[1;33m:\u001b[0m\u001b[1;33m\u001b[0m\u001b[1;33m\u001b[0m\u001b[0m\n\u001b[0;32m    495\u001b[0m             \u001b[1;31m# No explicit encoding\u001b[0m\u001b[1;33m\u001b[0m\u001b[1;33m\u001b[0m\u001b[1;33m\u001b[0m\u001b[0m\n",
      "\u001b[1;31mFileNotFoundError\u001b[0m: [Errno 2] No such file or directory: 'Data\\\\clusterresultaten.txt'"
     ]
    }
   ],
   "source": [
    "df_clusterd.to_csv(r'Data\\clusterresultaten.txt', header=None, index=True, sep=' ')"
   ]
  }
 ],
 "metadata": {
  "kernelspec": {
   "display_name": "Python 3",
   "language": "python",
   "name": "python3"
  },
  "language_info": {
   "codemirror_mode": {
    "name": "ipython",
    "version": 3
   },
   "file_extension": ".py",
   "mimetype": "text/x-python",
   "name": "python",
   "nbconvert_exporter": "python",
   "pygments_lexer": "ipython3",
   "version": "3.8.5"
  }
 },
 "nbformat": 4,
 "nbformat_minor": 4
}
