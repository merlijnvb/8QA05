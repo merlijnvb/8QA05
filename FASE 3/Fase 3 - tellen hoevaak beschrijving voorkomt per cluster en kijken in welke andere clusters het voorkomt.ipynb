{
 "cells": [
  {
   "cell_type": "code",
   "execution_count": 1,
   "metadata": {},
   "outputs": [],
   "source": [
    "import numpy as np"
   ]
  },
  {
   "cell_type": "code",
   "execution_count": 2,
   "metadata": {},
   "outputs": [],
   "source": [
    "\n",
    "def lib_res(Filename):\n",
    "    def openfile(Filename):\n",
    "        read_data = open(f'{Filename}')\n",
    "        data = read_data.read()\n",
    "        data = data.splitlines()\n",
    "        read_data.close()\n",
    "        \n",
    "        return data\n",
    "    \n",
    "    lib = dict()\n",
    "    \n",
    "    for lines in openfile(Filename):\n",
    "        line = lines.split()\n",
    "        lib[int(line[0])] = int(line[1])\n",
    "        \n",
    "    return lib"
   ]
  },
  {
   "cell_type": "code",
   "execution_count": 3,
   "metadata": {},
   "outputs": [],
   "source": [
    "def lib_beschrijvingen(Filename):\n",
    "    infile_GD = open(f'{Filename}')\n",
    "    inlines_GD = infile_GD.read().split()\n",
    "    infile_GD.close() \n",
    "    \n",
    "    indices = [i for i, x in enumerate(inlines_GD) if x == \"\\\\\\\\\"]  # als item is \\\\\\\\, bewaar de index\n",
    "    beschrijvingdict = {}\n",
    "    \n",
    "    \n",
    "    line = inlines_GD[: indices[0]]       # elke lijn is het cloneID met zijn beschrijving\n",
    "    cloneID = int(line[0])                              # geeft cloneID als integer\n",
    "    \n",
    "    beschrijving = \"\"\n",
    "    for word in range(1, len(line[1:])+1):   \n",
    "        if word == 1:\n",
    "            beschrijving += line[word] \n",
    "        \n",
    "        else:\n",
    "            beschrijving += \" \" + line[word]                              # print woorden met spatie\n",
    "    \n",
    "    beschrijvingdict[cloneID] = beschrijving\n",
    "    \n",
    "    for i in range(1,len(indices)):   \n",
    "        line = inlines_GD[indices[i-1]+1: indices[i]]       # elke lijn is het cloneID met zijn beschrijving\n",
    "        cloneID = int(line[0])                              # geeft cloneID als integer\n",
    "        \n",
    "        beschrijving = \"\"\n",
    "        for word in range(1, len(line[1:])+1):   \n",
    "            if word == 1:\n",
    "                beschrijving += line[word] \n",
    "\n",
    "            else:\n",
    "                beschrijving += \" \" + line[word]                              # print woorden met spatie\n",
    "        \n",
    "        beschrijvingdict[cloneID] = beschrijving\n",
    "        \n",
    "    return beschrijvingdict"
   ]
  },
  {
   "cell_type": "code",
   "execution_count": 4,
   "metadata": {},
   "outputs": [],
   "source": [
    "def get_descrision(input_data, refrence_data):\n",
    "    lib_refrence = dict()\n",
    "    \n",
    "    for ID in input_data:\n",
    "        lib_refrence[ID] = refrence_data[ID]\n",
    "        \n",
    "    return lib_refrence"
   ]
  },
  {
   "cell_type": "code",
   "execution_count": 5,
   "metadata": {},
   "outputs": [],
   "source": [
    "def get_cluster_descrision(results, refrence_data):\n",
    "    cluster_discription = dict()\n",
    "    \n",
    "    for i in range(min(results.values()),max(results.values())+1):\n",
    "        cluster_discription[i] = list()\n",
    "        \n",
    "    for ID in results:\n",
    "        cluster_discription[results[ID]].append(refrence_data[ID])\n",
    "        \n",
    "    return cluster_discription"
   ]
  },
  {
   "cell_type": "code",
   "execution_count": 15,
   "metadata": {},
   "outputs": [],
   "source": [
    "def get_same_descriptions(lib_cluster_info):\n",
    "    clusters = list(lib_cluster_info.keys())\n",
    "    same_descriptions = {}\n",
    "    for cluster in clusters:\n",
    "        descriptions = list(lib_cluster_info[cluster])\n",
    "        multiple_desc = {}\n",
    "        for description in descriptions:\n",
    "            duplicates = any(descriptions.count(description) > 1 for element in descriptions)\n",
    "            if duplicates == True:\n",
    "                multiple_desc[description] = descriptions.count(description)\n",
    "        same_descriptions[cluster] = multiple_desc\n",
    "        \n",
    "    return same_descriptions\n",
    "        "
   ]
  },
  {
   "cell_type": "code",
   "execution_count": 19,
   "metadata": {},
   "outputs": [],
   "source": [
    "def count_descriptions(same_descriptions, clusters=1):\n",
    "    all_clusters = list(same_descriptions.keys())\n",
    "    \n",
    "    for cluster in all_clusters:\n",
    "        cluster_descriptions = list(same_descriptions[cluster].keys())\n",
    "        alle_clusters = list(same_descriptions.keys())\n",
    "        alle_clusters.pop(cluster)\n",
    "        \n",
    "        for other_cluster in alle_clusters:\n",
    "            other_cluster_desc = list(same_descriptions[other_cluster].keys())\n",
    "            \n",
    "            for desc in cluster_descriptions:\n",
    "                if any(other_cluster_desc.count(desc) > 0 for element in other_cluster_desc) == True:\n",
    "                    print(desc)\n",
    "                    '''nu geeft ie als resultaat alleen ESTs, maar zo als het in de casus staat zou\n",
    "                    die meer moeten returnen. De fout zit waarschijnlijk in de functie get_same_descriptions,\n",
    "                    omdat deze nu kijkt naar of de strings precies het zelfde zijn. Maar eigenlijk moet\n",
    "                    deze functie kijken of de substring in een andere  string van die lijst voorkomt.'''\n",
    "                \n",
    "        all_clusters = list(same_descriptions.keys())"
   ]
  },
  {
   "cell_type": "code",
   "execution_count": 20,
   "metadata": {},
   "outputs": [
    {
     "name": "stdout",
     "output_type": "stream",
     "text": [
      "ESTs\n",
      "ESTs\n",
      "ESTs\n",
      "ESTs\n",
      "ESTs\n",
      "ESTs\n",
      "ESTs\n",
      "ESTs\n",
      "ESTs\n",
      "ESTs\n",
      "ESTs\n",
      "ESTs\n",
      "ESTs\n",
      "ESTs\n",
      "ESTs\n",
      "ESTs\n",
      "ESTs\n",
      "ESTs\n",
      "ESTs\n",
      "ESTs\n",
      "ESTs\n",
      "ESTs\n",
      "ESTs\n",
      "ESTs\n",
      "ESTs\n",
      "ESTs\n",
      "ESTs\n",
      "ESTs\n",
      "ESTs\n",
      "ESTs\n"
     ]
    }
   ],
   "source": [
    "count_descriptions = count_descriptions(same_descriptions)"
   ]
  },
  {
   "cell_type": "code",
   "execution_count": 21,
   "metadata": {},
   "outputs": [
    {
     "data": {
      "text/plain": [
       "{0: {'ESTs': 17,\n",
       "  'golgi autoantigen, golgin subfamily a, 4': 2,\n",
       "  'scavenger receptor class A, member 5 (putative)': 2},\n",
       " 1: {'ESTs': 111,\n",
       "  'oxoglutarate (alpha-ketoglutarate) dehydrogenase (lipoamide)': 2,\n",
       "  'peroxiredoxin 2': 2,\n",
       "  'superoxide dismutase 2, mitochondrial': 2,\n",
       "  '': 3,\n",
       "  \"protein phosphatase 2, regulatory subunit B'', alpha\": 2,\n",
       "  'coiled-coil-helix-coiled-coil-helix domain containing 7': 2,\n",
       "  'cytochrome c oxidase subunit VIIc': 2,\n",
       "  'LIM domain binding 3': 2,\n",
       "  'ephrin B3': 2,\n",
       "  'protein phosphatase 1K (PP2C domain containing)': 2},\n",
       " 2: {'ESTs': 33},\n",
       " 3: {'ESTs': 41,\n",
       "  'collagen, type V, alpha 1': 2,\n",
       "  'collagen, type V, alpha 2': 2,\n",
       "  'collagen, type XVIII, alpha 1': 2,\n",
       "  'sushi-repeat-containing protein, X-linked 2': 2,\n",
       "  'CAP, adenylate cyclase-associated protein 1 (yeast)': 2,\n",
       "  'predicted gene 21975': 2,\n",
       "  'SERTA domain containing 4': 2},\n",
       " 4: {'ESTs': 30, 'guanine deaminase': 2},\n",
       " 5: {'ESTs': 18,\n",
       "  'predicted gene 4788': 2,\n",
       "  'insulin-like growth factor binding protein 4': 2,\n",
       "  'Immunoglobulin heavy constant gamma 3': 2}}"
      ]
     },
     "execution_count": 21,
     "metadata": {},
     "output_type": "execute_result"
    }
   ],
   "source": [
    "lib_results = lib_res('Voorbeeld_clusterresult.txt')\n",
    "lib_beschrijving = lib_beschrijvingen('GenDescription2.txt')\n",
    "lib_bes_toegekend = get_descrision(lib_results,lib_beschrijving)\n",
    "lib_cluster_info = get_cluster_descrision(lib_results, lib_beschrijving)\n",
    "same_descriptions = get_same_descriptions(lib_cluster_info)\n",
    "#count_descriptions = count_descriptions(same_descriptions)\n",
    "\n",
    "\n",
    "same_descriptions\n",
    "#print(lib_cluster_info)\n",
    "#print(np.unique(lib_cluster_info[0]))"
   ]
  },
  {
   "cell_type": "code",
   "execution_count": null,
   "metadata": {},
   "outputs": [],
   "source": []
  }
 ],
 "metadata": {
  "kernelspec": {
   "display_name": "Python 3",
   "language": "python",
   "name": "python3"
  },
  "language_info": {
   "codemirror_mode": {
    "name": "ipython",
    "version": 3
   },
   "file_extension": ".py",
   "mimetype": "text/x-python",
   "name": "python",
   "nbconvert_exporter": "python",
   "pygments_lexer": "ipython3",
   "version": "3.8.5"
  }
 },
 "nbformat": 4,
 "nbformat_minor": 4
}
