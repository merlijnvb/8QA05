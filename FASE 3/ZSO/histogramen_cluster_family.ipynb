{
 "cells": [
  {
   "cell_type": "code",
   "execution_count": 1,
   "metadata": {},
   "outputs": [],
   "source": [
    "import pandas as pd\n",
    "import numpy as np\n",
    "import seaborn as sns\n",
    "import matplotlib.pyplot as plt\n",
    "\n",
    "def lib(FileName):\n",
    "    def openFile(FileName):\n",
    "        read_data = open(f'{FileName}')\n",
    "        data = read_data.read()\n",
    "        data = data.splitlines()\n",
    "        read_data.close()\n",
    "        \n",
    "        return data\n",
    "        \n",
    "    lib = {}\n",
    "    \n",
    "    for lines in openFile(FileName):\n",
    "        if lines != 'CloneID Familienummer':\n",
    "            line = lines.split()\n",
    "            if len(line[1:]) == 1:\n",
    "                lib[int(line[0])] = int(line[1])\n",
    "            else:\n",
    "                lib[int(line[0])] = line[1:]\n",
    "            \n",
    "    return lib\n",
    "            \n",
    "lib_family = lib('..\\Data\\CloneIdFamily.txt')\n",
    "lib_clust = lib('..\\Data\\kmca_results.txt')"
   ]
  },
  {
   "cell_type": "code",
   "execution_count": 103,
   "metadata": {
    "scrolled": false
   },
   "outputs": [
    {
     "name": "stdout",
     "output_type": "stream",
     "text": [
      "6\n",
      "7\n"
     ]
    },
    {
     "data": {
      "image/png": "[encoded data removed]",
      "text/plain": [
       "<Figure size 1080x360 with 7 Axes>"
      ]
     },
     "metadata": {
      "needs_background": "light"
     },
     "output_type": "display_data"
    }
   ],
   "source": [
    "def making_histograms(data_fam, data_clust):\n",
    "    fam_clust = {}\n",
    "    nr_of_familys = max(list(data_fam.values()))\n",
    "    \n",
    "    highest_cluster = max(list(data_clust.values()))\n",
    "    for family in range(1,nr_of_familys+1):\n",
    "        clusters = []\n",
    "        count = {}\n",
    "        IDs = [ID  for (ID, value) in data_fam.items() if value == family]\n",
    "        for ID in IDs:\n",
    "            if ID in list(data_clust.keys()):\n",
    "                clusters.append(data_clust[ID])\n",
    "            if len(clusters)>0:\n",
    "                if max(clusters) > highest_cluster:\n",
    "                    highest_cluster = max(clusters)\n",
    "            \n",
    "            for cluster in range(highest_cluster+1):\n",
    "                count[cluster] = clusters.count(cluster)\n",
    "        for cluster in count.keys():\n",
    "            if count[cluster]>0:\n",
    "                fam_clust[family] = count\n",
    "    \n",
    "    print(highest_cluster)    \n",
    "    \n",
    "    aantal_plots = 0\n",
    "    for family in list(fam_clust.keys()):\n",
    "        if fam_clust[family] != {}:\n",
    "            aantal_plots += 1\n",
    "    print(aantal_plots)\n",
    "    \n",
    "    \n",
    "    fig, axes = plt.subplots(ncols=aantal_plots,nrows=1, sharey=True, figsize=(15,5))\n",
    "    plot=0\n",
    "    for family in list(fam_clust.keys()):\n",
    "        if fam_clust[family] != {}:\n",
    "            ax_to_use = axes[plot]\n",
    "            df = pd.DataFrame(fam_clust[family], index=list(range(len(list(fam_clust[family]))))).head(1).transpose()\n",
    "            #ax_to_use.xlim(0,highest_cluster)\n",
    "            df.plot(kind='bar',ax=ax_to_use, legend=False)\n",
    "            ax_to_use.set_title(f'Family: {family}')\n",
    "            plot += 1\n",
    "    \n",
    "    \n",
    "\n",
    "making_histograms(lib_family, lib_clust)"
   ]
  },
  {
   "cell_type": "code",
   "execution_count": 89,
   "metadata": {},
   "outputs": [
    {
     "data": {
      "text/plain": [
       "0"
      ]
     },
     "execution_count": 89,
     "metadata": {},
     "output_type": "execute_result"
    }
   ],
   "source": [
    "a = [2,3,4]\n",
    "a.count(1)"
   ]
  },
  {
   "cell_type": "code",
   "execution_count": null,
   "metadata": {},
   "outputs": [],
   "source": []
  }
 ],
 "metadata": {
  "kernelspec": {
   "display_name": "Python 3",
   "language": "python",
   "name": "python3"
  },
  "language_info": {
   "codemirror_mode": {
    "name": "ipython",
    "version": 3
   },
   "file_extension": ".py",
   "mimetype": "text/x-python",
   "name": "python",
   "nbconvert_exporter": "python",
   "pygments_lexer": "ipython3",
   "version": "3.8.5"
  }
 },
 "nbformat": 4,
 "nbformat_minor": 4
}
