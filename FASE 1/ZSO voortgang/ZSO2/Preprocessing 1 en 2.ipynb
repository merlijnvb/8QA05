{
 "cells": [
  {
   "cell_type": "markdown",
   "metadata": {},
   "source": [
    "# Preprocessing"
   ]
  },
  {
   "cell_type": "markdown",
   "metadata": {},
   "source": [
    "Stap 1: files inlezen en opmaken in een dictionairy, met als key de CloneId en de andere kolommen als value"
   ]
  },
  {
   "cell_type": "code",
   "execution_count": 5,
   "metadata": {},
   "outputs": [],
   "source": [
    "import matplotlib.pyplot as plt\n",
    "\n",
    "def ReadFile(filename):\n",
    "    infile = open(filename)\n",
    "    lines = infile.readlines()\n",
    "    infile.close()\n",
    "    \n",
    "    ID_dict = {}\n",
    "        \n",
    "    for line in lines[1:]:\n",
    "        values = line.rstrip().split('\\t')\n",
    "        ID_dict[values[0]] = values[1:]\n",
    "    return ID_dict\n",
    "    \n",
    "dag1 = ReadFile('dag1.txt')\n",
    "dag2 = ReadFile('dag2.txt')\n",
    "dag4 = ReadFile('dag4.txt')\n",
    "dag7 = ReadFile('dag7.txt')\n",
    "dag14 = ReadFile('dag14.txt')\n",
    "dag21 = ReadFile('dag21.txt')\n",
    "dag45 = ReadFile('dag45.txt')\n",
    "dag90 = ReadFile('dag90.txt')\n",
    "\n",
    "expression = {}\n",
    "P1Sig = []\n",
    "P2Sig = []\n",
    "\n",
    "for ID in dag1:\n",
    "    expression[ID] = [dag1[ID][0], dag1[ID][3]]\n",
    "    P1Sig.append(expression[ID][0])\n",
    "    P2Sig.append(expression[ID][1])\n",
    "\n",
    "plt.plot(P1Sig, P2Sig, 'r.')"
   ]
  },
  {
   "cell_type": "code",
   "execution_count": null,
   "metadata": {},
   "outputs": [],
   "source": []
  }
 ],
 "metadata": {
  "kernelspec": {
   "display_name": "Python 3",
   "language": "python",
   "name": "python3"
  },
  "language_info": {
   "codemirror_mode": {
    "name": "ipython",
    "version": 3
   },
   "file_extension": ".py",
   "mimetype": "text/x-python",
   "name": "python",
   "nbconvert_exporter": "python",
   "pygments_lexer": "ipython3",
   "version": "3.8.3"
  }
 },
 "nbformat": 4,
 "nbformat_minor": 4
}
