{
 "cells": [
  {
   "cell_type": "markdown",
   "metadata": {},
   "source": [
    "# Eerste stuk code voor het inlezen"
   ]
  },
  {
   "cell_type": "code",
   "execution_count": 3,
   "metadata": {},
   "outputs": [],
   "source": [
    "#global variables\n",
    "Columns = 'P1Sig\tP1STB\tP1Cov\tP2Sig\tP2STB\tP2Cov  P2SigNorm'.split('\\t')\n",
    "\n",
    "def readfile(filename):\n",
    "    infile = open(filename)\n",
    "    lines = infile.readlines()\n",
    "    infile.close()\n",
    "    ID_dict = {}\n",
    "    lines.pop(0)\n",
    "    \n",
    "    for line in lines:\n",
    "        values = line.rstrip().split('\\t')\n",
    "        ID_dict[values[0]] = values[1:]\n",
    "    return ID_dict\n",
    "    \n",
    "def make_Days():\n",
    "    dag1 = readfile(\"dag1.txt\")\n",
    "    dag2 = readfile(\"dag2.txt\")\n",
    "    dag4 = readfile(\"dag4.txt\")\n",
    "    dag7 = readfile(\"dag7.txt\")\n",
    "    dag14 = readfile(\"dag14.txt\")\n",
    "    dag21 = readfile(\"dag21.txt\")\n",
    "    dag45 = readfile(\"dag45.txt\")\n",
    "    dag90 = readfile(\"dag90.txt\")\n",
    "    \n",
    "    return [dag1,dag2,dag4,dag7,dag14,dag21,dag45,dag90]\n",
    "\n",
    "\n",
    "def summation(Dag_dict,column_head):\n",
    "    total = 0\n",
    "    \n",
    "    for key in Dag_dict:\n",
    "        total += int(Dag_dict[key][Columns.index(column_head)])\n",
    "    return total\n",
    "   \n",
    "def normalize(Dag_dict):\n",
    "    S1 = summation(Dag_dict, \"P1Sig\")\n",
    "    S2 = summation(Dag_dict, \"P2Sig\")\n",
    "    for key in Dag_dict:\n",
    "        Dag_dict[key].append(int(Dag_dict[key][3])*S1/S2)\n",
    "\n",
    "def normSig2_add(Dagen):\n",
    "    for dag in Dagen:\n",
    "        normalize(dag)\n",
    "        print(dag)\n",
    "\n",
    "def Main():    \n",
    "    Dagen = make_Days()\n",
    "    normSig2_add(Dagen)\n",
    "\n",
    "Main()"
   ]
  }
 ],
 "metadata": {
  "kernelspec": {
   "display_name": "Python 3",
   "language": "python",
   "name": "python3"
  },
  "language_info": {
   "codemirror_mode": {
    "name": "ipython",
    "version": 3
   },
   "file_extension": ".py",
   "mimetype": "text/x-python",
   "name": "python",
   "nbconvert_exporter": "python",
   "pygments_lexer": "ipython3",
   "version": "3.7.6"
  }
 },
 "nbformat": 4,
 "nbformat_minor": 4
}
